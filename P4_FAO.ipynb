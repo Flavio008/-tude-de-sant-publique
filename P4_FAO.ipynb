{
 "cells": [
  {
   "cell_type": "code",
   "execution_count": 559,
   "id": "fe472e5d",
   "metadata": {},
   "outputs": [],
   "source": [
    "import pandas as pd\n",
    "import numpy as np\n",
    "import matplotlib.pyplot as plt\n",
    "import seaborn as sns"
   ]
  },
  {
   "cell_type": "markdown",
   "id": "979763a2",
   "metadata": {},
   "source": [
    "# Lecture et nettoyage des données"
   ]
  },
  {
   "cell_type": "markdown",
   "id": "c0b9765a",
   "metadata": {},
   "source": [
    "### Population"
   ]
  },
  {
   "cell_type": "code",
   "execution_count": 498,
   "id": "21261c48",
   "metadata": {},
   "outputs": [],
   "source": [
    "df_population = pd.read_csv('population.csv', sep=';')"
   ]
  },
  {
   "cell_type": "code",
   "execution_count": 499,
   "id": "b1826525",
   "metadata": {},
   "outputs": [],
   "source": [
    "df_population['Valeur']*=1000"
   ]
  },
  {
   "cell_type": "code",
   "execution_count": 500,
   "id": "18be23de",
   "metadata": {},
   "outputs": [
    {
     "data": {
      "text/html": [
       "<div>\n",
       "<style scoped>\n",
       "    .dataframe tbody tr th:only-of-type {\n",
       "        vertical-align: middle;\n",
       "    }\n",
       "\n",
       "    .dataframe tbody tr th {\n",
       "        vertical-align: top;\n",
       "    }\n",
       "\n",
       "    .dataframe thead th {\n",
       "        text-align: right;\n",
       "    }\n",
       "</style>\n",
       "<table border=\"1\" class=\"dataframe\">\n",
       "  <thead>\n",
       "    <tr style=\"text-align: right;\">\n",
       "      <th></th>\n",
       "      <th>Zone</th>\n",
       "      <th>Année</th>\n",
       "      <th>Valeur</th>\n",
       "    </tr>\n",
       "  </thead>\n",
       "  <tbody>\n",
       "    <tr>\n",
       "      <th>0</th>\n",
       "      <td>Afghanistan</td>\n",
       "      <td>2013</td>\n",
       "      <td>32269589.0</td>\n",
       "    </tr>\n",
       "    <tr>\n",
       "      <th>1</th>\n",
       "      <td>Afghanistan</td>\n",
       "      <td>2014</td>\n",
       "      <td>33370794.0</td>\n",
       "    </tr>\n",
       "    <tr>\n",
       "      <th>2</th>\n",
       "      <td>Afghanistan</td>\n",
       "      <td>2015</td>\n",
       "      <td>34413603.0</td>\n",
       "    </tr>\n",
       "    <tr>\n",
       "      <th>3</th>\n",
       "      <td>Afghanistan</td>\n",
       "      <td>2016</td>\n",
       "      <td>35383032.0</td>\n",
       "    </tr>\n",
       "    <tr>\n",
       "      <th>4</th>\n",
       "      <td>Afghanistan</td>\n",
       "      <td>2017</td>\n",
       "      <td>36296113.0</td>\n",
       "    </tr>\n",
       "    <tr>\n",
       "      <th>5</th>\n",
       "      <td>Afghanistan</td>\n",
       "      <td>2018</td>\n",
       "      <td>37171921.0</td>\n",
       "    </tr>\n",
       "    <tr>\n",
       "      <th>6</th>\n",
       "      <td>Afrique du Sud</td>\n",
       "      <td>2013</td>\n",
       "      <td>53687121.0</td>\n",
       "    </tr>\n",
       "    <tr>\n",
       "      <th>7</th>\n",
       "      <td>Afrique du Sud</td>\n",
       "      <td>2014</td>\n",
       "      <td>54544186.0</td>\n",
       "    </tr>\n",
       "    <tr>\n",
       "      <th>8</th>\n",
       "      <td>Afrique du Sud</td>\n",
       "      <td>2015</td>\n",
       "      <td>55386367.0</td>\n",
       "    </tr>\n",
       "    <tr>\n",
       "      <th>9</th>\n",
       "      <td>Afrique du Sud</td>\n",
       "      <td>2016</td>\n",
       "      <td>56207646.0</td>\n",
       "    </tr>\n",
       "  </tbody>\n",
       "</table>\n",
       "</div>"
      ],
      "text/plain": [
       "             Zone  Année      Valeur\n",
       "0     Afghanistan   2013  32269589.0\n",
       "1     Afghanistan   2014  33370794.0\n",
       "2     Afghanistan   2015  34413603.0\n",
       "3     Afghanistan   2016  35383032.0\n",
       "4     Afghanistan   2017  36296113.0\n",
       "5     Afghanistan   2018  37171921.0\n",
       "6  Afrique du Sud   2013  53687121.0\n",
       "7  Afrique du Sud   2014  54544186.0\n",
       "8  Afrique du Sud   2015  55386367.0\n",
       "9  Afrique du Sud   2016  56207646.0"
      ]
     },
     "execution_count": 500,
     "metadata": {},
     "output_type": "execute_result"
    }
   ],
   "source": [
    "df_population.head(10)"
   ]
  },
  {
   "cell_type": "markdown",
   "id": "095dc439",
   "metadata": {},
   "source": [
    "### Disponibilité alimentaire"
   ]
  },
  {
   "cell_type": "code",
   "execution_count": 501,
   "id": "09e92287",
   "metadata": {},
   "outputs": [],
   "source": [
    "df_dispo_alimentaire = pd.read_csv('dispo_alimentaire.csv', sep=';')"
   ]
  },
  {
   "cell_type": "code",
   "execution_count": 502,
   "id": "12acd0e2",
   "metadata": {},
   "outputs": [],
   "source": [
    "df_dispo_alimentaire.fillna(0,inplace=True)"
   ]
  },
  {
   "cell_type": "code",
   "execution_count": 503,
   "id": "846301cc",
   "metadata": {},
   "outputs": [],
   "source": [
    "colonnes_convertir= ['Aliments pour animaux', 'Disponibilité intérieure', 'Exportations - Quantité',\n",
    "                        'Importations - Quantité', 'Nourriture', 'Pertes', 'Production',\n",
    "                        'Semences', 'Traitement', 'Variation de stock', 'Autres Utilisations']"
   ]
  },
  {
   "cell_type": "code",
   "execution_count": 504,
   "id": "ef3dda63",
   "metadata": {},
   "outputs": [],
   "source": [
    "for colonnes in colonnes_convertir: \n",
    "    df_dispo_alimentaire[colonnes]*=1000000"
   ]
  },
  {
   "cell_type": "code",
   "execution_count": 505,
   "id": "9322717d",
   "metadata": {},
   "outputs": [
    {
     "data": {
      "text/html": [
       "<div>\n",
       "<style scoped>\n",
       "    .dataframe tbody tr th:only-of-type {\n",
       "        vertical-align: middle;\n",
       "    }\n",
       "\n",
       "    .dataframe tbody tr th {\n",
       "        vertical-align: top;\n",
       "    }\n",
       "\n",
       "    .dataframe thead th {\n",
       "        text-align: right;\n",
       "    }\n",
       "</style>\n",
       "<table border=\"1\" class=\"dataframe\">\n",
       "  <thead>\n",
       "    <tr style=\"text-align: right;\">\n",
       "      <th></th>\n",
       "      <th>Zone</th>\n",
       "      <th>Produit</th>\n",
       "      <th>Origine</th>\n",
       "      <th>Aliments pour animaux</th>\n",
       "      <th>Autres Utilisations</th>\n",
       "      <th>Disponibilité alimentaire (Kcal/personne/jour)</th>\n",
       "      <th>Disponibilité alimentaire en quantité (kg/personne/an)</th>\n",
       "      <th>Disponibilité de matière grasse en quantité (g/personne/jour)</th>\n",
       "      <th>Disponibilité de protéines en quantité (g/personne/jour)</th>\n",
       "      <th>Disponibilité intérieure</th>\n",
       "      <th>Exportations - Quantité</th>\n",
       "      <th>Importations - Quantité</th>\n",
       "      <th>Nourriture</th>\n",
       "      <th>Pertes</th>\n",
       "      <th>Production</th>\n",
       "      <th>Semences</th>\n",
       "      <th>Traitement</th>\n",
       "      <th>Variation de stock</th>\n",
       "    </tr>\n",
       "  </thead>\n",
       "  <tbody>\n",
       "    <tr>\n",
       "      <th>0</th>\n",
       "      <td>Afghanistan</td>\n",
       "      <td>Abats Comestible</td>\n",
       "      <td>animale</td>\n",
       "      <td>0.0</td>\n",
       "      <td>0.0</td>\n",
       "      <td>5.0</td>\n",
       "      <td>1.72</td>\n",
       "      <td>0.20</td>\n",
       "      <td>0.77</td>\n",
       "      <td>5.300000e+07</td>\n",
       "      <td>0.0</td>\n",
       "      <td>0.000000e+00</td>\n",
       "      <td>5.300000e+07</td>\n",
       "      <td>0.0</td>\n",
       "      <td>5.300000e+07</td>\n",
       "      <td>0.0</td>\n",
       "      <td>0.0</td>\n",
       "      <td>0.0</td>\n",
       "    </tr>\n",
       "    <tr>\n",
       "      <th>1</th>\n",
       "      <td>Afghanistan</td>\n",
       "      <td>Agrumes, Autres</td>\n",
       "      <td>vegetale</td>\n",
       "      <td>0.0</td>\n",
       "      <td>0.0</td>\n",
       "      <td>1.0</td>\n",
       "      <td>1.29</td>\n",
       "      <td>0.01</td>\n",
       "      <td>0.02</td>\n",
       "      <td>4.100000e+07</td>\n",
       "      <td>2000000.0</td>\n",
       "      <td>4.000000e+07</td>\n",
       "      <td>3.900000e+07</td>\n",
       "      <td>2000000.0</td>\n",
       "      <td>3.000000e+06</td>\n",
       "      <td>0.0</td>\n",
       "      <td>0.0</td>\n",
       "      <td>0.0</td>\n",
       "    </tr>\n",
       "    <tr>\n",
       "      <th>2</th>\n",
       "      <td>Afghanistan</td>\n",
       "      <td>Aliments pour enfants</td>\n",
       "      <td>vegetale</td>\n",
       "      <td>0.0</td>\n",
       "      <td>0.0</td>\n",
       "      <td>1.0</td>\n",
       "      <td>0.06</td>\n",
       "      <td>0.01</td>\n",
       "      <td>0.03</td>\n",
       "      <td>2.000000e+06</td>\n",
       "      <td>0.0</td>\n",
       "      <td>2.000000e+06</td>\n",
       "      <td>2.000000e+06</td>\n",
       "      <td>0.0</td>\n",
       "      <td>0.000000e+00</td>\n",
       "      <td>0.0</td>\n",
       "      <td>0.0</td>\n",
       "      <td>0.0</td>\n",
       "    </tr>\n",
       "    <tr>\n",
       "      <th>3</th>\n",
       "      <td>Afghanistan</td>\n",
       "      <td>Ananas</td>\n",
       "      <td>vegetale</td>\n",
       "      <td>0.0</td>\n",
       "      <td>0.0</td>\n",
       "      <td>0.0</td>\n",
       "      <td>0.00</td>\n",
       "      <td>0.00</td>\n",
       "      <td>0.00</td>\n",
       "      <td>0.000000e+00</td>\n",
       "      <td>0.0</td>\n",
       "      <td>0.000000e+00</td>\n",
       "      <td>0.000000e+00</td>\n",
       "      <td>0.0</td>\n",
       "      <td>0.000000e+00</td>\n",
       "      <td>0.0</td>\n",
       "      <td>0.0</td>\n",
       "      <td>0.0</td>\n",
       "    </tr>\n",
       "    <tr>\n",
       "      <th>4</th>\n",
       "      <td>Afghanistan</td>\n",
       "      <td>Bananes</td>\n",
       "      <td>vegetale</td>\n",
       "      <td>0.0</td>\n",
       "      <td>0.0</td>\n",
       "      <td>4.0</td>\n",
       "      <td>2.70</td>\n",
       "      <td>0.02</td>\n",
       "      <td>0.05</td>\n",
       "      <td>8.200000e+07</td>\n",
       "      <td>0.0</td>\n",
       "      <td>8.200000e+07</td>\n",
       "      <td>8.200000e+07</td>\n",
       "      <td>0.0</td>\n",
       "      <td>0.000000e+00</td>\n",
       "      <td>0.0</td>\n",
       "      <td>0.0</td>\n",
       "      <td>0.0</td>\n",
       "    </tr>\n",
       "    <tr>\n",
       "      <th>5</th>\n",
       "      <td>Afghanistan</td>\n",
       "      <td>Beurre, Ghee</td>\n",
       "      <td>animale</td>\n",
       "      <td>0.0</td>\n",
       "      <td>0.0</td>\n",
       "      <td>23.0</td>\n",
       "      <td>1.17</td>\n",
       "      <td>2.61</td>\n",
       "      <td>0.03</td>\n",
       "      <td>3.600000e+07</td>\n",
       "      <td>0.0</td>\n",
       "      <td>0.000000e+00</td>\n",
       "      <td>3.600000e+07</td>\n",
       "      <td>0.0</td>\n",
       "      <td>3.600000e+07</td>\n",
       "      <td>0.0</td>\n",
       "      <td>0.0</td>\n",
       "      <td>0.0</td>\n",
       "    </tr>\n",
       "    <tr>\n",
       "      <th>6</th>\n",
       "      <td>Afghanistan</td>\n",
       "      <td>Bière</td>\n",
       "      <td>vegetale</td>\n",
       "      <td>0.0</td>\n",
       "      <td>0.0</td>\n",
       "      <td>0.0</td>\n",
       "      <td>0.09</td>\n",
       "      <td>0.00</td>\n",
       "      <td>0.00</td>\n",
       "      <td>3.000000e+06</td>\n",
       "      <td>0.0</td>\n",
       "      <td>3.000000e+06</td>\n",
       "      <td>3.000000e+06</td>\n",
       "      <td>0.0</td>\n",
       "      <td>0.000000e+00</td>\n",
       "      <td>0.0</td>\n",
       "      <td>0.0</td>\n",
       "      <td>0.0</td>\n",
       "    </tr>\n",
       "    <tr>\n",
       "      <th>7</th>\n",
       "      <td>Afghanistan</td>\n",
       "      <td>Blé</td>\n",
       "      <td>vegetale</td>\n",
       "      <td>0.0</td>\n",
       "      <td>0.0</td>\n",
       "      <td>1369.0</td>\n",
       "      <td>160.23</td>\n",
       "      <td>4.69</td>\n",
       "      <td>36.91</td>\n",
       "      <td>5.992000e+09</td>\n",
       "      <td>0.0</td>\n",
       "      <td>1.173000e+09</td>\n",
       "      <td>4.895000e+09</td>\n",
       "      <td>775000000.0</td>\n",
       "      <td>5.169000e+09</td>\n",
       "      <td>322000000.0</td>\n",
       "      <td>0.0</td>\n",
       "      <td>-350000000.0</td>\n",
       "    </tr>\n",
       "    <tr>\n",
       "      <th>8</th>\n",
       "      <td>Afghanistan</td>\n",
       "      <td>Boissons Alcooliques</td>\n",
       "      <td>vegetale</td>\n",
       "      <td>0.0</td>\n",
       "      <td>0.0</td>\n",
       "      <td>0.0</td>\n",
       "      <td>0.00</td>\n",
       "      <td>0.00</td>\n",
       "      <td>0.00</td>\n",
       "      <td>0.000000e+00</td>\n",
       "      <td>0.0</td>\n",
       "      <td>0.000000e+00</td>\n",
       "      <td>0.000000e+00</td>\n",
       "      <td>0.0</td>\n",
       "      <td>0.000000e+00</td>\n",
       "      <td>0.0</td>\n",
       "      <td>0.0</td>\n",
       "      <td>0.0</td>\n",
       "    </tr>\n",
       "    <tr>\n",
       "      <th>9</th>\n",
       "      <td>Afghanistan</td>\n",
       "      <td>Café</td>\n",
       "      <td>vegetale</td>\n",
       "      <td>0.0</td>\n",
       "      <td>0.0</td>\n",
       "      <td>0.0</td>\n",
       "      <td>0.00</td>\n",
       "      <td>0.00</td>\n",
       "      <td>0.00</td>\n",
       "      <td>0.000000e+00</td>\n",
       "      <td>0.0</td>\n",
       "      <td>0.000000e+00</td>\n",
       "      <td>0.000000e+00</td>\n",
       "      <td>0.0</td>\n",
       "      <td>0.000000e+00</td>\n",
       "      <td>0.0</td>\n",
       "      <td>0.0</td>\n",
       "      <td>0.0</td>\n",
       "    </tr>\n",
       "  </tbody>\n",
       "</table>\n",
       "</div>"
      ],
      "text/plain": [
       "          Zone                Produit   Origine  Aliments pour animaux  \\\n",
       "0  Afghanistan       Abats Comestible   animale                    0.0   \n",
       "1  Afghanistan        Agrumes, Autres  vegetale                    0.0   \n",
       "2  Afghanistan  Aliments pour enfants  vegetale                    0.0   \n",
       "3  Afghanistan                 Ananas  vegetale                    0.0   \n",
       "4  Afghanistan                Bananes  vegetale                    0.0   \n",
       "5  Afghanistan           Beurre, Ghee   animale                    0.0   \n",
       "6  Afghanistan                  Bière  vegetale                    0.0   \n",
       "7  Afghanistan                    Blé  vegetale                    0.0   \n",
       "8  Afghanistan   Boissons Alcooliques  vegetale                    0.0   \n",
       "9  Afghanistan                   Café  vegetale                    0.0   \n",
       "\n",
       "   Autres Utilisations  Disponibilité alimentaire (Kcal/personne/jour)  \\\n",
       "0                  0.0                                             5.0   \n",
       "1                  0.0                                             1.0   \n",
       "2                  0.0                                             1.0   \n",
       "3                  0.0                                             0.0   \n",
       "4                  0.0                                             4.0   \n",
       "5                  0.0                                            23.0   \n",
       "6                  0.0                                             0.0   \n",
       "7                  0.0                                          1369.0   \n",
       "8                  0.0                                             0.0   \n",
       "9                  0.0                                             0.0   \n",
       "\n",
       "   Disponibilité alimentaire en quantité (kg/personne/an)  \\\n",
       "0                                               1.72        \n",
       "1                                               1.29        \n",
       "2                                               0.06        \n",
       "3                                               0.00        \n",
       "4                                               2.70        \n",
       "5                                               1.17        \n",
       "6                                               0.09        \n",
       "7                                             160.23        \n",
       "8                                               0.00        \n",
       "9                                               0.00        \n",
       "\n",
       "   Disponibilité de matière grasse en quantité (g/personne/jour)  \\\n",
       "0                                               0.20               \n",
       "1                                               0.01               \n",
       "2                                               0.01               \n",
       "3                                               0.00               \n",
       "4                                               0.02               \n",
       "5                                               2.61               \n",
       "6                                               0.00               \n",
       "7                                               4.69               \n",
       "8                                               0.00               \n",
       "9                                               0.00               \n",
       "\n",
       "   Disponibilité de protéines en quantité (g/personne/jour)  \\\n",
       "0                                               0.77          \n",
       "1                                               0.02          \n",
       "2                                               0.03          \n",
       "3                                               0.00          \n",
       "4                                               0.05          \n",
       "5                                               0.03          \n",
       "6                                               0.00          \n",
       "7                                              36.91          \n",
       "8                                               0.00          \n",
       "9                                               0.00          \n",
       "\n",
       "   Disponibilité intérieure  Exportations - Quantité  Importations - Quantité  \\\n",
       "0              5.300000e+07                      0.0             0.000000e+00   \n",
       "1              4.100000e+07                2000000.0             4.000000e+07   \n",
       "2              2.000000e+06                      0.0             2.000000e+06   \n",
       "3              0.000000e+00                      0.0             0.000000e+00   \n",
       "4              8.200000e+07                      0.0             8.200000e+07   \n",
       "5              3.600000e+07                      0.0             0.000000e+00   \n",
       "6              3.000000e+06                      0.0             3.000000e+06   \n",
       "7              5.992000e+09                      0.0             1.173000e+09   \n",
       "8              0.000000e+00                      0.0             0.000000e+00   \n",
       "9              0.000000e+00                      0.0             0.000000e+00   \n",
       "\n",
       "     Nourriture       Pertes    Production     Semences  Traitement  \\\n",
       "0  5.300000e+07          0.0  5.300000e+07          0.0         0.0   \n",
       "1  3.900000e+07    2000000.0  3.000000e+06          0.0         0.0   \n",
       "2  2.000000e+06          0.0  0.000000e+00          0.0         0.0   \n",
       "3  0.000000e+00          0.0  0.000000e+00          0.0         0.0   \n",
       "4  8.200000e+07          0.0  0.000000e+00          0.0         0.0   \n",
       "5  3.600000e+07          0.0  3.600000e+07          0.0         0.0   \n",
       "6  3.000000e+06          0.0  0.000000e+00          0.0         0.0   \n",
       "7  4.895000e+09  775000000.0  5.169000e+09  322000000.0         0.0   \n",
       "8  0.000000e+00          0.0  0.000000e+00          0.0         0.0   \n",
       "9  0.000000e+00          0.0  0.000000e+00          0.0         0.0   \n",
       "\n",
       "   Variation de stock  \n",
       "0                 0.0  \n",
       "1                 0.0  \n",
       "2                 0.0  \n",
       "3                 0.0  \n",
       "4                 0.0  \n",
       "5                 0.0  \n",
       "6                 0.0  \n",
       "7        -350000000.0  \n",
       "8                 0.0  \n",
       "9                 0.0  "
      ]
     },
     "execution_count": 505,
     "metadata": {},
     "output_type": "execute_result"
    }
   ],
   "source": [
    "df_dispo_alimentaire.head(10)"
   ]
  },
  {
   "cell_type": "markdown",
   "id": "f270cbb0",
   "metadata": {},
   "source": [
    "### Aide alimentaire"
   ]
  },
  {
   "cell_type": "code",
   "execution_count": 506,
   "id": "fd27658a",
   "metadata": {},
   "outputs": [],
   "source": [
    "df_aide_alimentaire = pd.read_csv('aide_alimentaire.csv', sep=';')"
   ]
  },
  {
   "cell_type": "code",
   "execution_count": 507,
   "id": "e8f1f2d3",
   "metadata": {},
   "outputs": [],
   "source": [
    "df_aide_alimentaire['Valeur']*=1000"
   ]
  },
  {
   "cell_type": "code",
   "execution_count": 508,
   "id": "c734eddb",
   "metadata": {},
   "outputs": [
    {
     "data": {
      "text/html": [
       "<div>\n",
       "<style scoped>\n",
       "    .dataframe tbody tr th:only-of-type {\n",
       "        vertical-align: middle;\n",
       "    }\n",
       "\n",
       "    .dataframe tbody tr th {\n",
       "        vertical-align: top;\n",
       "    }\n",
       "\n",
       "    .dataframe thead th {\n",
       "        text-align: right;\n",
       "    }\n",
       "</style>\n",
       "<table border=\"1\" class=\"dataframe\">\n",
       "  <thead>\n",
       "    <tr style=\"text-align: right;\">\n",
       "      <th></th>\n",
       "      <th>Pays bénéficiaire</th>\n",
       "      <th>Année</th>\n",
       "      <th>Produit</th>\n",
       "      <th>Valeur</th>\n",
       "    </tr>\n",
       "  </thead>\n",
       "  <tbody>\n",
       "    <tr>\n",
       "      <th>0</th>\n",
       "      <td>Afghanistan</td>\n",
       "      <td>2013</td>\n",
       "      <td>Autres non-céréales</td>\n",
       "      <td>682000</td>\n",
       "    </tr>\n",
       "    <tr>\n",
       "      <th>1</th>\n",
       "      <td>Afghanistan</td>\n",
       "      <td>2014</td>\n",
       "      <td>Autres non-céréales</td>\n",
       "      <td>335000</td>\n",
       "    </tr>\n",
       "    <tr>\n",
       "      <th>2</th>\n",
       "      <td>Afghanistan</td>\n",
       "      <td>2013</td>\n",
       "      <td>Blé et Farin</td>\n",
       "      <td>39224000</td>\n",
       "    </tr>\n",
       "    <tr>\n",
       "      <th>3</th>\n",
       "      <td>Afghanistan</td>\n",
       "      <td>2014</td>\n",
       "      <td>Blé et Farin</td>\n",
       "      <td>15160000</td>\n",
       "    </tr>\n",
       "    <tr>\n",
       "      <th>4</th>\n",
       "      <td>Afghanistan</td>\n",
       "      <td>2013</td>\n",
       "      <td>Céréales</td>\n",
       "      <td>40504000</td>\n",
       "    </tr>\n",
       "    <tr>\n",
       "      <th>5</th>\n",
       "      <td>Afghanistan</td>\n",
       "      <td>2014</td>\n",
       "      <td>Céréales</td>\n",
       "      <td>15989000</td>\n",
       "    </tr>\n",
       "    <tr>\n",
       "      <th>6</th>\n",
       "      <td>Afghanistan</td>\n",
       "      <td>2013</td>\n",
       "      <td>Fruits secs, total</td>\n",
       "      <td>85000</td>\n",
       "    </tr>\n",
       "    <tr>\n",
       "      <th>7</th>\n",
       "      <td>Afghanistan</td>\n",
       "      <td>2013</td>\n",
       "      <td>Huiles végétales</td>\n",
       "      <td>11087000</td>\n",
       "    </tr>\n",
       "    <tr>\n",
       "      <th>8</th>\n",
       "      <td>Afghanistan</td>\n",
       "      <td>2014</td>\n",
       "      <td>Huiles végétales</td>\n",
       "      <td>8185000</td>\n",
       "    </tr>\n",
       "    <tr>\n",
       "      <th>9</th>\n",
       "      <td>Afghanistan</td>\n",
       "      <td>2013</td>\n",
       "      <td>Légumineuses Sèches,Tot.</td>\n",
       "      <td>11761000</td>\n",
       "    </tr>\n",
       "  </tbody>\n",
       "</table>\n",
       "</div>"
      ],
      "text/plain": [
       "  Pays bénéficiaire  Année                   Produit    Valeur\n",
       "0       Afghanistan   2013       Autres non-céréales    682000\n",
       "1       Afghanistan   2014       Autres non-céréales    335000\n",
       "2       Afghanistan   2013              Blé et Farin  39224000\n",
       "3       Afghanistan   2014              Blé et Farin  15160000\n",
       "4       Afghanistan   2013                  Céréales  40504000\n",
       "5       Afghanistan   2014                  Céréales  15989000\n",
       "6       Afghanistan   2013        Fruits secs, total     85000\n",
       "7       Afghanistan   2013          Huiles végétales  11087000\n",
       "8       Afghanistan   2014          Huiles végétales   8185000\n",
       "9       Afghanistan   2013  Légumineuses Sèches,Tot.  11761000"
      ]
     },
     "execution_count": 508,
     "metadata": {},
     "output_type": "execute_result"
    }
   ],
   "source": [
    "df_aide_alimentaire.head(10)"
   ]
  },
  {
   "cell_type": "markdown",
   "id": "db554815",
   "metadata": {},
   "source": [
    "### Sous nutrition"
   ]
  },
  {
   "cell_type": "code",
   "execution_count": 509,
   "id": "dedb216d",
   "metadata": {},
   "outputs": [],
   "source": [
    "df_sous_nutrition = pd.read_csv('sous_nutrition.csv', sep=';')"
   ]
  },
  {
   "cell_type": "code",
   "execution_count": 510,
   "id": "ee934660",
   "metadata": {},
   "outputs": [],
   "source": [
    "df_sous_nutrition['Valeur'] = pd.to_numeric(df_sous_nutrition['Valeur'], errors='coerce')\n",
    "df_sous_nutrition.fillna(0, inplace=True)"
   ]
  },
  {
   "cell_type": "code",
   "execution_count": 511,
   "id": "bb7ad006",
   "metadata": {},
   "outputs": [],
   "source": [
    "df_sous_nutrition.rename(columns={\"Valeur\": \"Valeur_sous_nutrition\"}, inplace=True)\n",
    "df_sous_nutrition['Valeur_sous_nutrition'] *= 1000000"
   ]
  },
  {
   "cell_type": "code",
   "execution_count": 512,
   "id": "a73d1496",
   "metadata": {
    "scrolled": true
   },
   "outputs": [
    {
     "data": {
      "text/html": [
       "<div>\n",
       "<style scoped>\n",
       "    .dataframe tbody tr th:only-of-type {\n",
       "        vertical-align: middle;\n",
       "    }\n",
       "\n",
       "    .dataframe tbody tr th {\n",
       "        vertical-align: top;\n",
       "    }\n",
       "\n",
       "    .dataframe thead th {\n",
       "        text-align: right;\n",
       "    }\n",
       "</style>\n",
       "<table border=\"1\" class=\"dataframe\">\n",
       "  <thead>\n",
       "    <tr style=\"text-align: right;\">\n",
       "      <th></th>\n",
       "      <th>Zone</th>\n",
       "      <th>Année</th>\n",
       "      <th>Valeur_sous_nutrition</th>\n",
       "    </tr>\n",
       "  </thead>\n",
       "  <tbody>\n",
       "    <tr>\n",
       "      <th>0</th>\n",
       "      <td>Afghanistan</td>\n",
       "      <td>2012-2014</td>\n",
       "      <td>8600000.0</td>\n",
       "    </tr>\n",
       "    <tr>\n",
       "      <th>1</th>\n",
       "      <td>Afghanistan</td>\n",
       "      <td>2013-2015</td>\n",
       "      <td>8800000.0</td>\n",
       "    </tr>\n",
       "    <tr>\n",
       "      <th>2</th>\n",
       "      <td>Afghanistan</td>\n",
       "      <td>2014-2016</td>\n",
       "      <td>8900000.0</td>\n",
       "    </tr>\n",
       "    <tr>\n",
       "      <th>3</th>\n",
       "      <td>Afghanistan</td>\n",
       "      <td>2015-2017</td>\n",
       "      <td>9700000.0</td>\n",
       "    </tr>\n",
       "    <tr>\n",
       "      <th>4</th>\n",
       "      <td>Afghanistan</td>\n",
       "      <td>2016-2018</td>\n",
       "      <td>10500000.0</td>\n",
       "    </tr>\n",
       "    <tr>\n",
       "      <th>5</th>\n",
       "      <td>Afghanistan</td>\n",
       "      <td>2017-2019</td>\n",
       "      <td>11100000.0</td>\n",
       "    </tr>\n",
       "    <tr>\n",
       "      <th>6</th>\n",
       "      <td>Afrique du Sud</td>\n",
       "      <td>2012-2014</td>\n",
       "      <td>2200000.0</td>\n",
       "    </tr>\n",
       "    <tr>\n",
       "      <th>7</th>\n",
       "      <td>Afrique du Sud</td>\n",
       "      <td>2013-2015</td>\n",
       "      <td>2500000.0</td>\n",
       "    </tr>\n",
       "    <tr>\n",
       "      <th>8</th>\n",
       "      <td>Afrique du Sud</td>\n",
       "      <td>2014-2016</td>\n",
       "      <td>2800000.0</td>\n",
       "    </tr>\n",
       "    <tr>\n",
       "      <th>9</th>\n",
       "      <td>Afrique du Sud</td>\n",
       "      <td>2015-2017</td>\n",
       "      <td>3000000.0</td>\n",
       "    </tr>\n",
       "  </tbody>\n",
       "</table>\n",
       "</div>"
      ],
      "text/plain": [
       "             Zone      Année  Valeur_sous_nutrition\n",
       "0     Afghanistan  2012-2014              8600000.0\n",
       "1     Afghanistan  2013-2015              8800000.0\n",
       "2     Afghanistan  2014-2016              8900000.0\n",
       "3     Afghanistan  2015-2017              9700000.0\n",
       "4     Afghanistan  2016-2018             10500000.0\n",
       "5     Afghanistan  2017-2019             11100000.0\n",
       "6  Afrique du Sud  2012-2014              2200000.0\n",
       "7  Afrique du Sud  2013-2015              2500000.0\n",
       "8  Afrique du Sud  2014-2016              2800000.0\n",
       "9  Afrique du Sud  2015-2017              3000000.0"
      ]
     },
     "execution_count": 512,
     "metadata": {},
     "output_type": "execute_result"
    }
   ],
   "source": [
    "df_sous_nutrition.head(10)"
   ]
  },
  {
   "cell_type": "markdown",
   "id": "f67c0dba",
   "metadata": {},
   "source": [
    "# Questions de Marc"
   ]
  },
  {
   "cell_type": "markdown",
   "id": "ebddffc0",
   "metadata": {},
   "source": [
    "#### Informations sur les données de 2017"
   ]
  },
  {
   "cell_type": "code",
   "execution_count": 513,
   "id": "93b02dbf",
   "metadata": {},
   "outputs": [
    {
     "data": {
      "text/html": [
       "<div>\n",
       "<style scoped>\n",
       "    .dataframe tbody tr th:only-of-type {\n",
       "        vertical-align: middle;\n",
       "    }\n",
       "\n",
       "    .dataframe tbody tr th {\n",
       "        vertical-align: top;\n",
       "    }\n",
       "\n",
       "    .dataframe thead th {\n",
       "        text-align: right;\n",
       "    }\n",
       "</style>\n",
       "<table border=\"1\" class=\"dataframe\">\n",
       "  <thead>\n",
       "    <tr style=\"text-align: right;\">\n",
       "      <th></th>\n",
       "      <th>Zone</th>\n",
       "      <th>Valeur</th>\n",
       "      <th>Valeur_sous_nutrition</th>\n",
       "    </tr>\n",
       "  </thead>\n",
       "  <tbody>\n",
       "    <tr>\n",
       "      <th>0</th>\n",
       "      <td>Afghanistan</td>\n",
       "      <td>36296113.0</td>\n",
       "      <td>10500000.0</td>\n",
       "    </tr>\n",
       "    <tr>\n",
       "      <th>1</th>\n",
       "      <td>Afrique du Sud</td>\n",
       "      <td>57009756.0</td>\n",
       "      <td>3100000.0</td>\n",
       "    </tr>\n",
       "    <tr>\n",
       "      <th>2</th>\n",
       "      <td>Albanie</td>\n",
       "      <td>2884169.0</td>\n",
       "      <td>100000.0</td>\n",
       "    </tr>\n",
       "    <tr>\n",
       "      <th>3</th>\n",
       "      <td>Algérie</td>\n",
       "      <td>41389189.0</td>\n",
       "      <td>1300000.0</td>\n",
       "    </tr>\n",
       "    <tr>\n",
       "      <th>4</th>\n",
       "      <td>Allemagne</td>\n",
       "      <td>82658409.0</td>\n",
       "      <td>0.0</td>\n",
       "    </tr>\n",
       "  </tbody>\n",
       "</table>\n",
       "</div>"
      ],
      "text/plain": [
       "             Zone      Valeur  Valeur_sous_nutrition\n",
       "0     Afghanistan  36296113.0             10500000.0\n",
       "1  Afrique du Sud  57009756.0              3100000.0\n",
       "2         Albanie   2884169.0               100000.0\n",
       "3         Algérie  41389189.0              1300000.0\n",
       "4       Allemagne  82658409.0                    0.0"
      ]
     },
     "execution_count": 513,
     "metadata": {},
     "output_type": "execute_result"
    }
   ],
   "source": [
    "df_pop_2017 =df_population.loc[df_population['Année'] == 2017,[\"Zone\", \"Valeur\"]]\n",
    "df_sous_nut=df_sous_nutrition.loc[df_sous_nutrition['Année'] == '2016-2018',[\"Zone\", \"Valeur_sous_nutrition\"]]\n",
    "df_population_sous_nutrition=pd.merge(df_pop_2017, df_sous_nut, on = 'Zone')\n",
    "\n",
    "df_population_sous_nutrition.head()"
   ]
  },
  {
   "cell_type": "markdown",
   "id": "bb8cc527",
   "metadata": {},
   "source": [
    "### Question 1: Proportion de personnes en état de sous nutrition"
   ]
  },
  {
   "cell_type": "code",
   "execution_count": 650,
   "id": "e28cde07",
   "metadata": {},
   "outputs": [
    {
     "name": "stdout",
     "output_type": "stream",
     "text": [
      "Proportion de personnes en état de sous nutrition : 7.10 %\n",
      "Proportion de personnes qui reçoivent un apport alimentaire suffisant: 92.90 %\n"
     ]
    }
   ],
   "source": [
    "prop_personnes=(df_population_sous_nutrition[\"Valeur_sous_nutrition\"].sum()*100)/df_population_sous_nutrition.Valeur.sum()\n",
    "print(\"Proportion de personnes en état de sous nutrition :\", \"{:.2f}\".format(prop_personnes),\"%\")\n",
    "\n",
    "autres=round((df_population_sous_nutrition['Valeur']-df_population_sous_nutrition[\"Valeur_sous_nutrition\"]).sum()*100/df_population_sous_nutrition.Valeur.sum(), 2)\n",
    "print(\"Proportion de personnes qui reçoivent un apport alimentaire suffisant:\", \"{:.2f}\".format(autres),\"%\")"
   ]
  },
  {
   "cell_type": "code",
   "execution_count": 654,
   "id": "7e51324e",
   "metadata": {},
   "outputs": [
    {
     "data": {
      "image/png": "[encoded data removed]",
      "text/plain": [
       "<Figure size 432x288 with 1 Axes>"
      ]
     },
     "metadata": {},
     "output_type": "display_data"
    }
   ],
   "source": [
    "proportion = [prop_personnes, autres]\n",
    "labels = [\"État de sous nutrition\", 'Personnes qui reçoivent un apport alimentaire suffisant ']\n",
    "colors=sns.color_palette(\"Set2\")\n",
    "\n",
    "explode = (.2,0)\n",
    "plt.style.use('ggplot')\n",
    "plt.title(' La proportion de personnes en état de sous nutrition')\n",
    "plt.pie(proportion, labels=labels, autopct=\"%0.2f %%\", pctdistance=0.8, startangle=45, colors =colors)\n",
    "plt.axis('equal')\n",
    "plt.legend(loc=\"upper right\", bbox_to_anchor=(1,0))\n",
    "circle=plt.Circle(xy=(0,0), radius=.20, facecolor='white')\n",
    "plt.gca().add_artist(circle)\n",
    "\n",
    "plt.show()"
   ]
  },
  {
   "cell_type": "markdown",
   "id": "58f0ec87",
   "metadata": {},
   "source": [
    "### Question 2: Nombre théorique de personnes qui pourraient être nourries"
   ]
  },
  {
   "cell_type": "code",
   "execution_count": 567,
   "id": "4ad8d6d4",
   "metadata": {
    "scrolled": true
   },
   "outputs": [
    {
     "name": "stdout",
     "output_type": "stream",
     "text": [
      "Disponibilité alimentaire totale en kcal : 5995412811563315.0 kcal\n",
      "Le nombre théorique de personnes qui pourraient être nourris 6570315410 \n"
     ]
    }
   ],
   "source": [
    "df_total_dispo_global = df_dispo_alimentaire.merge(df_population.loc[df_population['Année'] == 2017,[\"Zone\", \"Valeur\"]],\n",
    "                                            on='Zone')\n",
    "df_total_dispo_global['dispo_kcal']=df_total_dispo_global['Disponibilité alimentaire (Kcal/personne/jour)']*df_total_dispo_global['Valeur']*365\n",
    "\n",
    "print(\"Disponibilité alimentaire totale en kcal :\", df_total_dispo_global['dispo_kcal'].sum(), \"kcal\")\n",
    "print(\"Le nombre théorique de personnes qui pourraient être nourris {} \".format(round(df_total_dispo_global['dispo_kcal'].sum()/(2500*365))))"
   ]
  },
  {
   "cell_type": "markdown",
   "id": "bc1dfb0d",
   "metadata": {},
   "source": [
    "### Question 3: Disponibilité alimentaire des produits végétaux (année 2017)"
   ]
  },
  {
   "cell_type": "code",
   "execution_count": 561,
   "id": "1cca13ba",
   "metadata": {},
   "outputs": [
    {
     "name": "stdout",
     "output_type": "stream",
     "text": [
      "Disponibilité total de vegetaux 62773691449500 kcal\n",
      "Nombre de personnes qui pourraient être nourris 68793086.52 \n",
      "Porcentage qui pourraient être nourris: 91.14 %\n"
     ]
    }
   ],
   "source": [
    "df_dispo_alimentaire['dispo_kcal'] = df_dispo_alimentaire['Disponibilité alimentaire (Kcal/personne/jour)'] * df_pop_2017['Valeur'] * 365\n",
    "df_vegetaux=df_dispo_alimentaire.loc[df_dispo_alimentaire['Origine'] == \"vegetale\",:]\n",
    "\n",
    "total_vegetaux=df_dispo_alimentaire['dispo_kcal'].sum()\n",
    "print(\"Disponibilité total de vegetaux {} kcal\".format(round(total_vegetaux)))\n",
    "\n",
    "total_ps_nourris_veg=total_vegetaux/(2500*365)\n",
    "print(\"Nombre de personnes qui pourraient être nourris {} \".format(total_ps_nourris_veg))\n",
    "\n",
    "porcentage=total_ps_nourris_veg*100/df_pop_2017['Valeur'].sum()*100\n",
    "print(\"Porcentage qui pourraient être nourris:\", \"{:.2f}\".format(porcentage), \"%\")"
   ]
  },
  {
   "cell_type": "markdown",
   "id": "d98dfd57",
   "metadata": {},
   "source": [
    "### Question 4: Utilisation de la disponibilité intérieure"
   ]
  },
  {
   "cell_type": "code",
   "execution_count": 517,
   "id": "b4318762",
   "metadata": {},
   "outputs": [],
   "source": [
    "dispo_int = df_dispo_alimentaire['Disponibilité intérieure'].sum()"
   ]
  },
  {
   "cell_type": "markdown",
   "id": "b7f257d5",
   "metadata": {},
   "source": [
    "#### Les disponibilités alimentaires intérieures"
   ]
  },
  {
   "cell_type": "code",
   "execution_count": 662,
   "id": "3f0fa762",
   "metadata": {},
   "outputs": [
    {
     "name": "stdout",
     "output_type": "stream",
     "text": [
      "Proportion de aliments pour animaux: 13.24 %\n",
      "Proportion de pertes: 4.61 %\n",
      "Proportion de aliments pour les humains: 49.51 %\n",
      "Proportion de autres: 8.78 %\n",
      "Proportion de semences: 1.57 %\n",
      "Proportion de traitement: 22.38 %\n"
     ]
    }
   ],
   "source": [
    "dispo_animale=round(df_dispo_alimentaire[\"Aliments pour animaux\"].sum()*100/dispo_int, 2)\n",
    "print(\"Proportion de aliments pour animaux:\", \"{:.2f}\".format(dispo_animale),\"%\")\n",
    "\n",
    "pertes=round(df_dispo_alimentaire[\"Pertes\"].sum()*100/dispo_int, 2)\n",
    "print(\"Proportion de pertes:\", \"{:.2f}\".format(pertes),\"%\")\n",
    "\n",
    "dispo_humaine=round(df_dispo_alimentaire[\"Nourriture\"].sum()/dispo_int*100, 2)\n",
    "print(\"Proportion de aliments pour les humains:\", \"{:.2f}\".format(dispo_humaine),\"%\")\n",
    "\n",
    "autres=round(df_dispo_alimentaire[\"Autres Utilisations\"].sum()/dispo_int*100, 2)\n",
    "print(\"Proportion de autres:\", \"{:.2f}\".format(autres),\"%\")\n",
    "\n",
    "semences=round(df_dispo_alimentaire[\"Semences\"].sum()/dispo_int*100, 2)\n",
    "print(\"Proportion de semences:\", \"{:.2f}\".format(semences),\"%\")\n",
    "\n",
    "traitement=round(df_dispo_alimentaire[\"Traitement\"].sum()/dispo_int*100, 2)\n",
    "print(\"Proportion de traitement:\", \"{:.2f}\".format(traitement),\"%\")"
   ]
  },
  {
   "cell_type": "code",
   "execution_count": 663,
   "id": "37f40348",
   "metadata": {},
   "outputs": [
    {
     "data": {
      "image/png": "[encoded data removed]",
      "text/plain": [
       "<Figure size 432x288 with 1 Axes>"
      ]
     },
     "metadata": {},
     "output_type": "display_data"
    }
   ],
   "source": [
    "proportion = [4.61, 13.24, 49.51, 8.78, 22.38, 1.57]\n",
    "disponibilité = [\"Animaux\", \" Pertes\", \"Humains\",\"Autres\", \"Traitement\", \"Semence\"]\n",
    "explode = (.3,.3,.1,0,0,0)\n",
    "plt.style.use('ggplot')\n",
    "plt.title(' Utilisation de la disponibilité intérieure')\n",
    "plt.pie(proportion, labels=disponibilité, autopct=\"%0.2f %%\", pctdistance=0.8, startangle=9, explode=explode)\n",
    "plt.axis('equal')\n",
    "plt.legend(loc=\"upper right\", bbox_to_anchor=(1,0))\n",
    "\n",
    "\n",
    "plt.show()"
   ]
  },
  {
   "cell_type": "markdown",
   "id": "b10598aa",
   "metadata": {},
   "source": [
    "# Questions Julien "
   ]
  },
  {
   "cell_type": "markdown",
   "id": "86bc3ee9",
   "metadata": {},
   "source": [
    "#### L'utilisation des céréales \n",
    "\n",
    "Liste de céréales"
   ]
  },
  {
   "cell_type": "code",
   "execution_count": 521,
   "id": "e6c4e2e1",
   "metadata": {},
   "outputs": [],
   "source": [
    "cereales = [\"Blé et produits\", \"Riz et produits\", \"Orge et produits\", \"Maïs et produits\", \"Seigle et produits\",\n",
    "                  \"Avoine\", \"Millet et produits\", \"Sorgho et produits\", \"Céréales, Autres\"]"
   ]
  },
  {
   "cell_type": "code",
   "execution_count": 522,
   "id": "d5a5020f",
   "metadata": {},
   "outputs": [],
   "source": [
    "df_cereales = df_dispo_alimentaire.loc[df_dispo_alimentaire['Produit'].isin(cereales),:]"
   ]
  },
  {
   "cell_type": "markdown",
   "id": "242e5304",
   "metadata": {},
   "source": [
    "### Question 1: Les proportions"
   ]
  },
  {
   "cell_type": "markdown",
   "id": "6db52de2",
   "metadata": {},
   "source": [
    " #### Proportion alimentation humaine / alimentation animaux"
   ]
  },
  {
   "cell_type": "code",
   "execution_count": 660,
   "id": "970d62c5",
   "metadata": {},
   "outputs": [
    {
     "name": "stdout",
     "output_type": "stream",
     "text": [
      "Proportion des céréales dans l'alimentation humaine: 18.13 %\n",
      "Proportion des céréales dans l'alimentation pour animaux: 69.34 %\n",
      "Proportion des céréales dans l'alimentation pour autres: 12.53 %\n"
     ]
    }
   ],
   "source": [
    "proportion_alimentaire_humaine=round(df_cereales['Nourriture'].sum()*100/df_cereales['Disponibilité intérieure'].sum(),2 )\n",
    "print(\"Proportion des céréales dans l'alimentation humaine:\", \"{:.2f}\".format(proportion_alimentaire_humaine),\"%\")\n",
    "\n",
    "proportion_alimentaire_animaux=round(df_cereales['Aliments pour animaux'].sum()*100/df_cereales['Disponibilité intérieure'].sum(), 2)\n",
    "print(\"Proportion des céréales dans l'alimentation pour animaux:\", \"{:.2f}\".format(proportion_alimentaire_animaux),\"%\")\n",
    "\n",
    "autres=round((df_cereales['Disponibilité intérieure']-df_cereales['Aliments pour animaux']- df_cereales['Nourriture']).sum()*100/df_cereales['Disponibilité intérieure'].sum(), 2)\n",
    "print(\"Proportion des céréales dans l'alimentation pour autres:\", \"{:.2f}\".format(autres),\"%\")"
   ]
  },
  {
   "cell_type": "code",
   "execution_count": 666,
   "id": "f369dd43",
   "metadata": {
    "scrolled": true
   },
   "outputs": [
    {
     "data": {
      "image/png": "[encoded data removed]",
      "text/plain": [
       "<Figure size 432x288 with 1 Axes>"
      ]
     },
     "metadata": {},
     "output_type": "display_data"
    }
   ],
   "source": [
    "proportion = [proportion_alimentaire_humaine, proportion_alimentaire_animaux, autres]\n",
    "labels = [\"Aliments pour les humains\", \" Aliments pour animaux\", \"Autres\"]\n",
    "\n",
    "colors = ('tab:blue', 'tab:orange', 'tab:green')\n",
    "explode = (.2,0)\n",
    "plt.style.use('ggplot')\n",
    "plt.title(' Utilisation de la disponibilité intérieure')\n",
    "plt.pie(proportion, labels=labels, autopct=\"%0.2f %%\", pctdistance=0.8, startangle=25, colors =colors)\n",
    "plt.axis('equal')\n",
    "plt.legend(loc=\"upper right\", bbox_to_anchor=(1,0))\n",
    "circle=plt.Circle(xy=(0,0), radius=.60, facecolor='white')\n",
    "plt.gca().add_artist(circle)\n",
    "\n",
    "plt.show()"
   ]
  },
  {
   "cell_type": "markdown",
   "id": "33260f08",
   "metadata": {},
   "source": [
    "### Question 2: Utilisation du manioc par la Thaïlande"
   ]
  },
  {
   "cell_type": "markdown",
   "id": "1de5d0f6",
   "metadata": {},
   "source": [
    "#### Proportion de personnes en état de sous nutrition en Thaïlande"
   ]
  },
  {
   "cell_type": "code",
   "execution_count": 525,
   "id": "b641142d",
   "metadata": {},
   "outputs": [
    {
     "name": "stdout",
     "output_type": "stream",
     "text": [
      "Proportion de personnes en état de sous nutrition : 8.96 %\n"
     ]
    }
   ],
   "source": [
    "thai = (df_population_sous_nutrition.loc[df_population_sous_nutrition['Zone'] == 'Thaïlande',:]*100)\n",
    "thai_sous_nutrition=(thai['Valeur_sous_nutrition'].iloc[0]*100/thai['Valeur'].iloc[0])\n",
    "\n",
    "print(\"Proportion de personnes en état de sous nutrition :\", \"{:.2f}\".format(thai_sous_nutrition),\"%\")"
   ]
  },
  {
   "cell_type": "markdown",
   "id": "980c22fd",
   "metadata": {},
   "source": [
    "#### La production de manioc en Thaïlande"
   ]
  },
  {
   "cell_type": "code",
   "execution_count": 526,
   "id": "b600b2ae",
   "metadata": {},
   "outputs": [
    {
     "data": {
      "text/html": [
       "<div>\n",
       "<style scoped>\n",
       "    .dataframe tbody tr th:only-of-type {\n",
       "        vertical-align: middle;\n",
       "    }\n",
       "\n",
       "    .dataframe tbody tr th {\n",
       "        vertical-align: top;\n",
       "    }\n",
       "\n",
       "    .dataframe thead th {\n",
       "        text-align: right;\n",
       "    }\n",
       "</style>\n",
       "<table border=\"1\" class=\"dataframe\">\n",
       "  <thead>\n",
       "    <tr style=\"text-align: right;\">\n",
       "      <th></th>\n",
       "      <th>Zone</th>\n",
       "      <th>Produit</th>\n",
       "      <th>Origine</th>\n",
       "      <th>Aliments pour animaux</th>\n",
       "      <th>Autres Utilisations</th>\n",
       "      <th>Disponibilité alimentaire (Kcal/personne/jour)</th>\n",
       "      <th>Disponibilité alimentaire en quantité (kg/personne/an)</th>\n",
       "      <th>Disponibilité de matière grasse en quantité (g/personne/jour)</th>\n",
       "      <th>Disponibilité de protéines en quantité (g/personne/jour)</th>\n",
       "      <th>Disponibilité intérieure</th>\n",
       "      <th>Exportations - Quantité</th>\n",
       "      <th>Importations - Quantité</th>\n",
       "      <th>Nourriture</th>\n",
       "      <th>Pertes</th>\n",
       "      <th>Production</th>\n",
       "      <th>Semences</th>\n",
       "      <th>Traitement</th>\n",
       "      <th>Variation de stock</th>\n",
       "      <th>dispo_kcal</th>\n",
       "    </tr>\n",
       "  </thead>\n",
       "  <tbody>\n",
       "    <tr>\n",
       "      <th>13809</th>\n",
       "      <td>Thaïlande</td>\n",
       "      <td>Manioc</td>\n",
       "      <td>vegetale</td>\n",
       "      <td>1.800000e+09</td>\n",
       "      <td>2.081000e+09</td>\n",
       "      <td>40.0</td>\n",
       "      <td>13.0</td>\n",
       "      <td>0.05</td>\n",
       "      <td>0.14</td>\n",
       "      <td>6.264000e+09</td>\n",
       "      <td>2.521400e+10</td>\n",
       "      <td>1.250000e+09</td>\n",
       "      <td>871000000.0</td>\n",
       "      <td>1.511000e+09</td>\n",
       "      <td>3.022800e+10</td>\n",
       "      <td>0.0</td>\n",
       "      <td>0.0</td>\n",
       "      <td>0.0</td>\n",
       "      <td>NaN</td>\n",
       "    </tr>\n",
       "  </tbody>\n",
       "</table>\n",
       "</div>"
      ],
      "text/plain": [
       "            Zone Produit   Origine  Aliments pour animaux  \\\n",
       "13809  Thaïlande  Manioc  vegetale           1.800000e+09   \n",
       "\n",
       "       Autres Utilisations  Disponibilité alimentaire (Kcal/personne/jour)  \\\n",
       "13809         2.081000e+09                                            40.0   \n",
       "\n",
       "       Disponibilité alimentaire en quantité (kg/personne/an)  \\\n",
       "13809                                               13.0        \n",
       "\n",
       "       Disponibilité de matière grasse en quantité (g/personne/jour)  \\\n",
       "13809                                               0.05               \n",
       "\n",
       "       Disponibilité de protéines en quantité (g/personne/jour)  \\\n",
       "13809                                               0.14          \n",
       "\n",
       "       Disponibilité intérieure  Exportations - Quantité  \\\n",
       "13809              6.264000e+09             2.521400e+10   \n",
       "\n",
       "       Importations - Quantité   Nourriture        Pertes    Production  \\\n",
       "13809             1.250000e+09  871000000.0  1.511000e+09  3.022800e+10   \n",
       "\n",
       "       Semences  Traitement  Variation de stock  dispo_kcal  \n",
       "13809       0.0         0.0                 0.0         NaN  "
      ]
     },
     "execution_count": 526,
     "metadata": {},
     "output_type": "execute_result"
    }
   ],
   "source": [
    "dispo_thai_manioc=df_dispo_alimentaire.loc[(df_dispo_alimentaire['Produit'] == \"Manioc\") & (df_dispo_alimentaire['Zone'] == \"Thaïlande\"),:]\n",
    "dispo_thai_manioc.head()"
   ]
  },
  {
   "cell_type": "markdown",
   "id": "97f86b5f",
   "metadata": {},
   "source": [
    "#### Utilisation de la disponibilité intérieure"
   ]
  },
  {
   "cell_type": "code",
   "execution_count": 649,
   "id": "eb64b90d",
   "metadata": {},
   "outputs": [
    {
     "name": "stdout",
     "output_type": "stream",
     "text": [
      "La proportion de Manioc exporté : 83.41 %\n",
      "La proportion de manioc consommation intérieure : 16.59 %\n"
     ]
    }
   ],
   "source": [
    "manioc_export=dispo_thai_manioc['Exportations - Quantité'].iloc[0]*100/dispo_thai_manioc['Production'].iloc[0]\n",
    "print(\"La proportion de Manioc exporté :\", \"{:.2f}\".format(manioc_export),\"%\")\n",
    "\n",
    "manioc_cons_int=round((dispo_thai_manioc['Production']-dispo_thai_manioc['Exportations - Quantité']).sum()*100)/dispo_thai_manioc['Production'].iloc[0]\n",
    "print(\"La proportion de manioc consommation intérieure :\", \"{:.2f}\".format(manioc_cons_int),\"%\")"
   ]
  },
  {
   "cell_type": "code",
   "execution_count": 616,
   "id": "5ad38c99",
   "metadata": {},
   "outputs": [
    {
     "data": {
      "text/plain": [
       "<matplotlib.legend.Legend at 0x1abda761760>"
      ]
     },
     "execution_count": 616,
     "metadata": {},
     "output_type": "execute_result"
    },
    {
     "data": {
      "image/png": "[encoded data removed]",
      "text/plain": [
       "<Figure size 432x288 with 1 Axes>"
      ]
     },
     "metadata": {},
     "output_type": "display_data"
    }
   ],
   "source": [
    "proportion = [83.41, 16.59]\n",
    "disponibilité = ['La proportion de Manioc exporté ', 'La proportion de manioc consommation intérieure']\n",
    "colors = ('tab:green', 'tab:orange')\n",
    "explode = (0,0)\n",
    "plt.style.use('ggplot')\n",
    "plt.title(' Utilisation de la disponibilité intérieure')\n",
    "plt.pie(proportion, labels=disponibilité, autopct=\"%0.2f %%\", pctdistance=0.5, startangle=9, explode=explode, colors =colors)\n",
    "plt.axis('equal')\n",
    "plt.legend(loc=\"upper right\", bbox_to_anchor=(1,0))"
   ]
  },
  {
   "cell_type": "markdown",
   "id": "9b4937ad",
   "metadata": {},
   "source": [
    "# Questions Mélanie"
   ]
  },
  {
   "cell_type": "markdown",
   "id": "e9071fea",
   "metadata": {},
   "source": [
    "#### Étude un peu plus fine pour chacun des pays"
   ]
  },
  {
   "cell_type": "code",
   "execution_count": 528,
   "id": "c0d3bb82",
   "metadata": {},
   "outputs": [
    {
     "data": {
      "text/html": [
       "<div>\n",
       "<style scoped>\n",
       "    .dataframe tbody tr th:only-of-type {\n",
       "        vertical-align: middle;\n",
       "    }\n",
       "\n",
       "    .dataframe tbody tr th {\n",
       "        vertical-align: top;\n",
       "    }\n",
       "\n",
       "    .dataframe thead th {\n",
       "        text-align: right;\n",
       "    }\n",
       "</style>\n",
       "<table border=\"1\" class=\"dataframe\">\n",
       "  <thead>\n",
       "    <tr style=\"text-align: right;\">\n",
       "      <th></th>\n",
       "      <th>Zone</th>\n",
       "      <th>Année</th>\n",
       "      <th>Valeur_sous_nutrition</th>\n",
       "    </tr>\n",
       "  </thead>\n",
       "  <tbody>\n",
       "    <tr>\n",
       "      <th>0</th>\n",
       "      <td>Afghanistan</td>\n",
       "      <td>2012-2014</td>\n",
       "      <td>8600000.0</td>\n",
       "    </tr>\n",
       "    <tr>\n",
       "      <th>1</th>\n",
       "      <td>Afghanistan</td>\n",
       "      <td>2013-2015</td>\n",
       "      <td>8800000.0</td>\n",
       "    </tr>\n",
       "    <tr>\n",
       "      <th>2</th>\n",
       "      <td>Afghanistan</td>\n",
       "      <td>2014-2016</td>\n",
       "      <td>8900000.0</td>\n",
       "    </tr>\n",
       "    <tr>\n",
       "      <th>3</th>\n",
       "      <td>Afghanistan</td>\n",
       "      <td>2015-2017</td>\n",
       "      <td>9700000.0</td>\n",
       "    </tr>\n",
       "    <tr>\n",
       "      <th>4</th>\n",
       "      <td>Afghanistan</td>\n",
       "      <td>2016-2018</td>\n",
       "      <td>10500000.0</td>\n",
       "    </tr>\n",
       "  </tbody>\n",
       "</table>\n",
       "</div>"
      ],
      "text/plain": [
       "          Zone      Année  Valeur_sous_nutrition\n",
       "0  Afghanistan  2012-2014              8600000.0\n",
       "1  Afghanistan  2013-2015              8800000.0\n",
       "2  Afghanistan  2014-2016              8900000.0\n",
       "3  Afghanistan  2015-2017              9700000.0\n",
       "4  Afghanistan  2016-2018             10500000.0"
      ]
     },
     "execution_count": 528,
     "metadata": {},
     "output_type": "execute_result"
    }
   ],
   "source": [
    "df_sous_nutrition.head()"
   ]
  },
  {
   "cell_type": "code",
   "execution_count": 529,
   "id": "458a6f96",
   "metadata": {
    "scrolled": true
   },
   "outputs": [
    {
     "data": {
      "text/html": [
       "<div>\n",
       "<style scoped>\n",
       "    .dataframe tbody tr th:only-of-type {\n",
       "        vertical-align: middle;\n",
       "    }\n",
       "\n",
       "    .dataframe tbody tr th {\n",
       "        vertical-align: top;\n",
       "    }\n",
       "\n",
       "    .dataframe thead th {\n",
       "        text-align: right;\n",
       "    }\n",
       "</style>\n",
       "<table border=\"1\" class=\"dataframe\">\n",
       "  <thead>\n",
       "    <tr style=\"text-align: right;\">\n",
       "      <th></th>\n",
       "      <th>Zone</th>\n",
       "      <th>Produit</th>\n",
       "      <th>Origine</th>\n",
       "      <th>Aliments pour animaux</th>\n",
       "      <th>Autres Utilisations</th>\n",
       "      <th>Disponibilité alimentaire (Kcal/personne/jour)</th>\n",
       "      <th>Disponibilité alimentaire en quantité (kg/personne/an)</th>\n",
       "      <th>Disponibilité de matière grasse en quantité (g/personne/jour)</th>\n",
       "      <th>Disponibilité de protéines en quantité (g/personne/jour)</th>\n",
       "      <th>Disponibilité intérieure</th>\n",
       "      <th>Exportations - Quantité</th>\n",
       "      <th>Importations - Quantité</th>\n",
       "      <th>Nourriture</th>\n",
       "      <th>Pertes</th>\n",
       "      <th>Production</th>\n",
       "      <th>Semences</th>\n",
       "      <th>Traitement</th>\n",
       "      <th>Variation de stock</th>\n",
       "      <th>Valeur</th>\n",
       "      <th>dispo_kcal</th>\n",
       "    </tr>\n",
       "  </thead>\n",
       "  <tbody>\n",
       "    <tr>\n",
       "      <th>0</th>\n",
       "      <td>Afghanistan</td>\n",
       "      <td>Abats Comestible</td>\n",
       "      <td>animale</td>\n",
       "      <td>0.0</td>\n",
       "      <td>0.0</td>\n",
       "      <td>5.0</td>\n",
       "      <td>1.72</td>\n",
       "      <td>0.20</td>\n",
       "      <td>0.77</td>\n",
       "      <td>53000000.0</td>\n",
       "      <td>0.0</td>\n",
       "      <td>0.0</td>\n",
       "      <td>53000000.0</td>\n",
       "      <td>0.0</td>\n",
       "      <td>53000000.0</td>\n",
       "      <td>0.0</td>\n",
       "      <td>0.0</td>\n",
       "      <td>0.0</td>\n",
       "      <td>36296113.0</td>\n",
       "      <td>6.624041e+10</td>\n",
       "    </tr>\n",
       "    <tr>\n",
       "      <th>1</th>\n",
       "      <td>Afghanistan</td>\n",
       "      <td>Agrumes, Autres</td>\n",
       "      <td>vegetale</td>\n",
       "      <td>0.0</td>\n",
       "      <td>0.0</td>\n",
       "      <td>1.0</td>\n",
       "      <td>1.29</td>\n",
       "      <td>0.01</td>\n",
       "      <td>0.02</td>\n",
       "      <td>41000000.0</td>\n",
       "      <td>2000000.0</td>\n",
       "      <td>40000000.0</td>\n",
       "      <td>39000000.0</td>\n",
       "      <td>2000000.0</td>\n",
       "      <td>3000000.0</td>\n",
       "      <td>0.0</td>\n",
       "      <td>0.0</td>\n",
       "      <td>0.0</td>\n",
       "      <td>36296113.0</td>\n",
       "      <td>1.324808e+10</td>\n",
       "    </tr>\n",
       "    <tr>\n",
       "      <th>2</th>\n",
       "      <td>Afghanistan</td>\n",
       "      <td>Aliments pour enfants</td>\n",
       "      <td>vegetale</td>\n",
       "      <td>0.0</td>\n",
       "      <td>0.0</td>\n",
       "      <td>1.0</td>\n",
       "      <td>0.06</td>\n",
       "      <td>0.01</td>\n",
       "      <td>0.03</td>\n",
       "      <td>2000000.0</td>\n",
       "      <td>0.0</td>\n",
       "      <td>2000000.0</td>\n",
       "      <td>2000000.0</td>\n",
       "      <td>0.0</td>\n",
       "      <td>0.0</td>\n",
       "      <td>0.0</td>\n",
       "      <td>0.0</td>\n",
       "      <td>0.0</td>\n",
       "      <td>36296113.0</td>\n",
       "      <td>1.324808e+10</td>\n",
       "    </tr>\n",
       "    <tr>\n",
       "      <th>3</th>\n",
       "      <td>Afghanistan</td>\n",
       "      <td>Ananas</td>\n",
       "      <td>vegetale</td>\n",
       "      <td>0.0</td>\n",
       "      <td>0.0</td>\n",
       "      <td>0.0</td>\n",
       "      <td>0.00</td>\n",
       "      <td>0.00</td>\n",
       "      <td>0.00</td>\n",
       "      <td>0.0</td>\n",
       "      <td>0.0</td>\n",
       "      <td>0.0</td>\n",
       "      <td>0.0</td>\n",
       "      <td>0.0</td>\n",
       "      <td>0.0</td>\n",
       "      <td>0.0</td>\n",
       "      <td>0.0</td>\n",
       "      <td>0.0</td>\n",
       "      <td>36296113.0</td>\n",
       "      <td>0.000000e+00</td>\n",
       "    </tr>\n",
       "    <tr>\n",
       "      <th>4</th>\n",
       "      <td>Afghanistan</td>\n",
       "      <td>Bananes</td>\n",
       "      <td>vegetale</td>\n",
       "      <td>0.0</td>\n",
       "      <td>0.0</td>\n",
       "      <td>4.0</td>\n",
       "      <td>2.70</td>\n",
       "      <td>0.02</td>\n",
       "      <td>0.05</td>\n",
       "      <td>82000000.0</td>\n",
       "      <td>0.0</td>\n",
       "      <td>82000000.0</td>\n",
       "      <td>82000000.0</td>\n",
       "      <td>0.0</td>\n",
       "      <td>0.0</td>\n",
       "      <td>0.0</td>\n",
       "      <td>0.0</td>\n",
       "      <td>0.0</td>\n",
       "      <td>36296113.0</td>\n",
       "      <td>5.299232e+10</td>\n",
       "    </tr>\n",
       "  </tbody>\n",
       "</table>\n",
       "</div>"
      ],
      "text/plain": [
       "          Zone                Produit   Origine  Aliments pour animaux  \\\n",
       "0  Afghanistan       Abats Comestible   animale                    0.0   \n",
       "1  Afghanistan        Agrumes, Autres  vegetale                    0.0   \n",
       "2  Afghanistan  Aliments pour enfants  vegetale                    0.0   \n",
       "3  Afghanistan                 Ananas  vegetale                    0.0   \n",
       "4  Afghanistan                Bananes  vegetale                    0.0   \n",
       "\n",
       "   Autres Utilisations  Disponibilité alimentaire (Kcal/personne/jour)  \\\n",
       "0                  0.0                                             5.0   \n",
       "1                  0.0                                             1.0   \n",
       "2                  0.0                                             1.0   \n",
       "3                  0.0                                             0.0   \n",
       "4                  0.0                                             4.0   \n",
       "\n",
       "   Disponibilité alimentaire en quantité (kg/personne/an)  \\\n",
       "0                                               1.72        \n",
       "1                                               1.29        \n",
       "2                                               0.06        \n",
       "3                                               0.00        \n",
       "4                                               2.70        \n",
       "\n",
       "   Disponibilité de matière grasse en quantité (g/personne/jour)  \\\n",
       "0                                               0.20               \n",
       "1                                               0.01               \n",
       "2                                               0.01               \n",
       "3                                               0.00               \n",
       "4                                               0.02               \n",
       "\n",
       "   Disponibilité de protéines en quantité (g/personne/jour)  \\\n",
       "0                                               0.77          \n",
       "1                                               0.02          \n",
       "2                                               0.03          \n",
       "3                                               0.00          \n",
       "4                                               0.05          \n",
       "\n",
       "   Disponibilité intérieure  Exportations - Quantité  Importations - Quantité  \\\n",
       "0                53000000.0                      0.0                      0.0   \n",
       "1                41000000.0                2000000.0               40000000.0   \n",
       "2                 2000000.0                      0.0                2000000.0   \n",
       "3                       0.0                      0.0                      0.0   \n",
       "4                82000000.0                      0.0               82000000.0   \n",
       "\n",
       "   Nourriture     Pertes  Production  Semences  Traitement  \\\n",
       "0  53000000.0        0.0  53000000.0       0.0         0.0   \n",
       "1  39000000.0  2000000.0   3000000.0       0.0         0.0   \n",
       "2   2000000.0        0.0         0.0       0.0         0.0   \n",
       "3         0.0        0.0         0.0       0.0         0.0   \n",
       "4  82000000.0        0.0         0.0       0.0         0.0   \n",
       "\n",
       "   Variation de stock      Valeur    dispo_kcal  \n",
       "0                 0.0  36296113.0  6.624041e+10  \n",
       "1                 0.0  36296113.0  1.324808e+10  \n",
       "2                 0.0  36296113.0  1.324808e+10  \n",
       "3                 0.0  36296113.0  0.000000e+00  \n",
       "4                 0.0  36296113.0  5.299232e+10  "
      ]
     },
     "execution_count": 529,
     "metadata": {},
     "output_type": "execute_result"
    }
   ],
   "source": [
    "df_total_dispo_global.head()"
   ]
  },
  {
   "cell_type": "markdown",
   "id": "6b471dce",
   "metadata": {},
   "source": [
    "### Question 1: Le pays pour lesquels la proportion de personnes sous-alimentées est la plus fort"
   ]
  },
  {
   "cell_type": "code",
   "execution_count": 530,
   "id": "03b00d9a",
   "metadata": {},
   "outputs": [
    {
     "data": {
      "text/html": [
       "<div>\n",
       "<style scoped>\n",
       "    .dataframe tbody tr th:only-of-type {\n",
       "        vertical-align: middle;\n",
       "    }\n",
       "\n",
       "    .dataframe tbody tr th {\n",
       "        vertical-align: top;\n",
       "    }\n",
       "\n",
       "    .dataframe thead th {\n",
       "        text-align: right;\n",
       "    }\n",
       "</style>\n",
       "<table border=\"1\" class=\"dataframe\">\n",
       "  <thead>\n",
       "    <tr style=\"text-align: right;\">\n",
       "      <th></th>\n",
       "      <th>Zone</th>\n",
       "      <th>pourcentage</th>\n",
       "    </tr>\n",
       "  </thead>\n",
       "  <tbody>\n",
       "    <tr>\n",
       "      <th>78</th>\n",
       "      <td>Haïti</td>\n",
       "      <td>0.482592</td>\n",
       "    </tr>\n",
       "    <tr>\n",
       "      <th>157</th>\n",
       "      <td>République populaire démocratique de Corée</td>\n",
       "      <td>0.471887</td>\n",
       "    </tr>\n",
       "    <tr>\n",
       "      <th>108</th>\n",
       "      <td>Madagascar</td>\n",
       "      <td>0.410629</td>\n",
       "    </tr>\n",
       "    <tr>\n",
       "      <th>103</th>\n",
       "      <td>Libéria</td>\n",
       "      <td>0.382797</td>\n",
       "    </tr>\n",
       "    <tr>\n",
       "      <th>100</th>\n",
       "      <td>Lesotho</td>\n",
       "      <td>0.382494</td>\n",
       "    </tr>\n",
       "    <tr>\n",
       "      <th>183</th>\n",
       "      <td>Tchad</td>\n",
       "      <td>0.379576</td>\n",
       "    </tr>\n",
       "    <tr>\n",
       "      <th>161</th>\n",
       "      <td>Rwanda</td>\n",
       "      <td>0.350556</td>\n",
       "    </tr>\n",
       "    <tr>\n",
       "      <th>121</th>\n",
       "      <td>Mozambique</td>\n",
       "      <td>0.328109</td>\n",
       "    </tr>\n",
       "    <tr>\n",
       "      <th>186</th>\n",
       "      <td>Timor-Leste</td>\n",
       "      <td>0.321735</td>\n",
       "    </tr>\n",
       "    <tr>\n",
       "      <th>0</th>\n",
       "      <td>Afghanistan</td>\n",
       "      <td>0.289287</td>\n",
       "    </tr>\n",
       "  </tbody>\n",
       "</table>\n",
       "</div>"
      ],
      "text/plain": [
       "                                           Zone  pourcentage\n",
       "78                                        Haïti     0.482592\n",
       "157  République populaire démocratique de Corée     0.471887\n",
       "108                                  Madagascar     0.410629\n",
       "103                                     Libéria     0.382797\n",
       "100                                     Lesotho     0.382494\n",
       "183                                       Tchad     0.379576\n",
       "161                                      Rwanda     0.350556\n",
       "121                                  Mozambique     0.328109\n",
       "186                                 Timor-Leste     0.321735\n",
       "0                                   Afghanistan     0.289287"
      ]
     },
     "execution_count": 530,
     "metadata": {},
     "output_type": "execute_result"
    }
   ],
   "source": [
    "df_population_sous_nutrition['pourcentage']=df_population_sous_nutrition['Valeur_sous_nutrition']/df_population_sous_nutrition['Valeur']\n",
    "df_population_sous_nutrition[[\"Zone\", \"pourcentage\"]].sort_values('pourcentage',ascending=False).head(10)"
   ]
  },
  {
   "cell_type": "code",
   "execution_count": 668,
   "id": "f0012a45",
   "metadata": {},
   "outputs": [
    {
     "data": {
      "image/png": "[encoded data removed]",
      "text/plain": [
       "<Figure size 720x720 with 1 Axes>"
      ]
     },
     "metadata": {},
     "output_type": "display_data"
    }
   ],
   "source": [
    "top_10_sous_nut=df_population_sous_nutrition[[\"Zone\", \"pourcentage\"]].sort_values(\"pourcentage\",ascending=False)[:10]\n",
    "plt.figure(figsize = (10, 10))\n",
    "sns.barplot(data = top_10_sous_nut, x = 'Zone', y = \"pourcentage\", palette =  \"rainbow\")\n",
    "plt.xticks(rotation=80)\n",
    "plt.tight_layout()\n",
    "plt.title('Pays ayant la plus forte proportion de personnes sous-alimentées en 2017')\n",
    "\n",
    "plt.show()\n",
    "\n"
   ]
  },
  {
   "cell_type": "markdown",
   "id": "f28809d9",
   "metadata": {},
   "source": [
    "### Question 2 Pays plus bénéficié d'aide"
   ]
  },
  {
   "cell_type": "code",
   "execution_count": 604,
   "id": "d2a8f7fd",
   "metadata": {},
   "outputs": [
    {
     "data": {
      "text/html": [
       "<div>\n",
       "<style scoped>\n",
       "    .dataframe tbody tr th:only-of-type {\n",
       "        vertical-align: middle;\n",
       "    }\n",
       "\n",
       "    .dataframe tbody tr th {\n",
       "        vertical-align: top;\n",
       "    }\n",
       "\n",
       "    .dataframe thead th {\n",
       "        text-align: right;\n",
       "    }\n",
       "</style>\n",
       "<table border=\"1\" class=\"dataframe\">\n",
       "  <thead>\n",
       "    <tr style=\"text-align: right;\">\n",
       "      <th></th>\n",
       "      <th>Valeur</th>\n",
       "    </tr>\n",
       "    <tr>\n",
       "      <th>Pays bénéficiaire</th>\n",
       "      <th></th>\n",
       "    </tr>\n",
       "  </thead>\n",
       "  <tbody>\n",
       "    <tr>\n",
       "      <th>République arabe syrienne</th>\n",
       "      <td>1858943000</td>\n",
       "    </tr>\n",
       "    <tr>\n",
       "      <th>Éthiopie</th>\n",
       "      <td>1381294000</td>\n",
       "    </tr>\n",
       "    <tr>\n",
       "      <th>Yémen</th>\n",
       "      <td>1206484000</td>\n",
       "    </tr>\n",
       "    <tr>\n",
       "      <th>Soudan du Sud</th>\n",
       "      <td>695248000</td>\n",
       "    </tr>\n",
       "    <tr>\n",
       "      <th>Soudan</th>\n",
       "      <td>669784000</td>\n",
       "    </tr>\n",
       "    <tr>\n",
       "      <th>Kenya</th>\n",
       "      <td>552836000</td>\n",
       "    </tr>\n",
       "    <tr>\n",
       "      <th>Bangladesh</th>\n",
       "      <td>348188000</td>\n",
       "    </tr>\n",
       "    <tr>\n",
       "      <th>Somalie</th>\n",
       "      <td>292678000</td>\n",
       "    </tr>\n",
       "    <tr>\n",
       "      <th>République démocratique du Congo</th>\n",
       "      <td>288502000</td>\n",
       "    </tr>\n",
       "    <tr>\n",
       "      <th>Niger</th>\n",
       "      <td>276344000</td>\n",
       "    </tr>\n",
       "  </tbody>\n",
       "</table>\n",
       "</div>"
      ],
      "text/plain": [
       "                                      Valeur\n",
       "Pays bénéficiaire                           \n",
       "République arabe syrienne         1858943000\n",
       "Éthiopie                          1381294000\n",
       "Yémen                             1206484000\n",
       "Soudan du Sud                      695248000\n",
       "Soudan                             669784000\n",
       "Kenya                              552836000\n",
       "Bangladesh                         348188000\n",
       "Somalie                            292678000\n",
       "République démocratique du Congo   288502000\n",
       "Niger                              276344000"
      ]
     },
     "execution_count": 604,
     "metadata": {},
     "output_type": "execute_result"
    }
   ],
   "source": [
    "pays_benef=df_aide_alimentaire[['Pays bénéficiaire','Valeur']].groupby(by =[\"Pays bénéficiaire\"]).sum()\n",
    "pays_benef.sort_values('Valeur',ascending=False).iloc[:10]"
   ]
  },
  {
   "cell_type": "code",
   "execution_count": 669,
   "id": "eadc8297",
   "metadata": {},
   "outputs": [
    {
     "data": {
      "image/png": "[encoded data removed]",
      "text/plain": [
       "<Figure size 720x576 with 1 Axes>"
      ]
     },
     "metadata": {},
     "output_type": "display_data"
    }
   ],
   "source": [
    "benef =pays_benef.sort_values(by=\"Valeur\", ascending =  False)[:10]\n",
    "plt.figure(figsize = (10, 8))\n",
    "sns.barplot(data = benef, x = benef.index , y =\"Valeur\", palette = \"rainbow\")\n",
    "plt.xticks(rotation=70)\n",
    "plt.tight_layout()\n",
    "plt.title(\"Ceux qui ont reçu le plus d'aides depuis 2013\")\n",
    "\n",
    "plt.show()"
   ]
  },
  {
   "cell_type": "code",
   "execution_count": 532,
   "id": "51d5313a",
   "metadata": {},
   "outputs": [
    {
     "data": {
      "text/html": [
       "<div>\n",
       "<style scoped>\n",
       "    .dataframe tbody tr th:only-of-type {\n",
       "        vertical-align: middle;\n",
       "    }\n",
       "\n",
       "    .dataframe tbody tr th {\n",
       "        vertical-align: top;\n",
       "    }\n",
       "\n",
       "    .dataframe thead th {\n",
       "        text-align: right;\n",
       "    }\n",
       "</style>\n",
       "<table border=\"1\" class=\"dataframe\">\n",
       "  <thead>\n",
       "    <tr style=\"text-align: right;\">\n",
       "      <th></th>\n",
       "      <th>Pays bénéficiaire</th>\n",
       "      <th>Année</th>\n",
       "      <th>Produit</th>\n",
       "      <th>Valeur</th>\n",
       "    </tr>\n",
       "  </thead>\n",
       "  <tbody>\n",
       "    <tr>\n",
       "      <th>0</th>\n",
       "      <td>Afghanistan</td>\n",
       "      <td>2013</td>\n",
       "      <td>Autres non-céréales</td>\n",
       "      <td>682000</td>\n",
       "    </tr>\n",
       "    <tr>\n",
       "      <th>1</th>\n",
       "      <td>Afghanistan</td>\n",
       "      <td>2014</td>\n",
       "      <td>Autres non-céréales</td>\n",
       "      <td>335000</td>\n",
       "    </tr>\n",
       "    <tr>\n",
       "      <th>2</th>\n",
       "      <td>Afghanistan</td>\n",
       "      <td>2013</td>\n",
       "      <td>Blé et Farin</td>\n",
       "      <td>39224000</td>\n",
       "    </tr>\n",
       "    <tr>\n",
       "      <th>3</th>\n",
       "      <td>Afghanistan</td>\n",
       "      <td>2014</td>\n",
       "      <td>Blé et Farin</td>\n",
       "      <td>15160000</td>\n",
       "    </tr>\n",
       "    <tr>\n",
       "      <th>4</th>\n",
       "      <td>Afghanistan</td>\n",
       "      <td>2013</td>\n",
       "      <td>Céréales</td>\n",
       "      <td>40504000</td>\n",
       "    </tr>\n",
       "  </tbody>\n",
       "</table>\n",
       "</div>"
      ],
      "text/plain": [
       "  Pays bénéficiaire  Année              Produit    Valeur\n",
       "0       Afghanistan   2013  Autres non-céréales    682000\n",
       "1       Afghanistan   2014  Autres non-céréales    335000\n",
       "2       Afghanistan   2013         Blé et Farin  39224000\n",
       "3       Afghanistan   2014         Blé et Farin  15160000\n",
       "4       Afghanistan   2013             Céréales  40504000"
      ]
     },
     "execution_count": 532,
     "metadata": {},
     "output_type": "execute_result"
    }
   ],
   "source": [
    "df_aide_alimentaire.head()"
   ]
  },
  {
   "cell_type": "markdown",
   "id": "4d4ad712",
   "metadata": {},
   "source": [
    "### Question 3: Ceux ayant le plus de disponibilité/habitant"
   ]
  },
  {
   "cell_type": "code",
   "execution_count": 618,
   "id": "323bdc58",
   "metadata": {},
   "outputs": [
    {
     "data": {
      "text/html": [
       "<div>\n",
       "<style scoped>\n",
       "    .dataframe tbody tr th:only-of-type {\n",
       "        vertical-align: middle;\n",
       "    }\n",
       "\n",
       "    .dataframe tbody tr th {\n",
       "        vertical-align: top;\n",
       "    }\n",
       "\n",
       "    .dataframe thead th {\n",
       "        text-align: right;\n",
       "    }\n",
       "</style>\n",
       "<table border=\"1\" class=\"dataframe\">\n",
       "  <thead>\n",
       "    <tr style=\"text-align: right;\">\n",
       "      <th></th>\n",
       "      <th>Disponibilité alimentaire (Kcal/personne/jour)</th>\n",
       "    </tr>\n",
       "    <tr>\n",
       "      <th>Zone</th>\n",
       "      <th></th>\n",
       "    </tr>\n",
       "  </thead>\n",
       "  <tbody>\n",
       "    <tr>\n",
       "      <th>Autriche</th>\n",
       "      <td>3770.0</td>\n",
       "    </tr>\n",
       "    <tr>\n",
       "      <th>Belgique</th>\n",
       "      <td>3737.0</td>\n",
       "    </tr>\n",
       "    <tr>\n",
       "      <th>Turquie</th>\n",
       "      <td>3708.0</td>\n",
       "    </tr>\n",
       "    <tr>\n",
       "      <th>États-Unis d'Amérique</th>\n",
       "      <td>3682.0</td>\n",
       "    </tr>\n",
       "    <tr>\n",
       "      <th>Israël</th>\n",
       "      <td>3610.0</td>\n",
       "    </tr>\n",
       "    <tr>\n",
       "      <th>Irlande</th>\n",
       "      <td>3602.0</td>\n",
       "    </tr>\n",
       "    <tr>\n",
       "      <th>Italie</th>\n",
       "      <td>3578.0</td>\n",
       "    </tr>\n",
       "    <tr>\n",
       "      <th>Luxembourg</th>\n",
       "      <td>3540.0</td>\n",
       "    </tr>\n",
       "    <tr>\n",
       "      <th>Égypte</th>\n",
       "      <td>3518.0</td>\n",
       "    </tr>\n",
       "    <tr>\n",
       "      <th>Allemagne</th>\n",
       "      <td>3503.0</td>\n",
       "    </tr>\n",
       "  </tbody>\n",
       "</table>\n",
       "</div>"
      ],
      "text/plain": [
       "                       Disponibilité alimentaire (Kcal/personne/jour)\n",
       "Zone                                                                 \n",
       "Autriche                                                       3770.0\n",
       "Belgique                                                       3737.0\n",
       "Turquie                                                        3708.0\n",
       "États-Unis d'Amérique                                          3682.0\n",
       "Israël                                                         3610.0\n",
       "Irlande                                                        3602.0\n",
       "Italie                                                         3578.0\n",
       "Luxembourg                                                     3540.0\n",
       "Égypte                                                         3518.0\n",
       "Allemagne                                                      3503.0"
      ]
     },
     "execution_count": 618,
     "metadata": {},
     "output_type": "execute_result"
    }
   ],
   "source": [
    "data = df_dispo_alimentaire[[\"Zone\",\"Produit\", \"Disponibilité alimentaire (Kcal/personne/jour)\"]].groupby(\"Zone\").agg(\"sum\")\n",
    "data[[\"Disponibilité alimentaire (Kcal/personne/jour)\"]].sort_values(by=\"Disponibilité alimentaire (Kcal/personne/jour)\", ascending=False).iloc[:10]"
   ]
  },
  {
   "cell_type": "code",
   "execution_count": 622,
   "id": "fce24038",
   "metadata": {},
   "outputs": [
    {
     "data": {
      "image/png": "[encoded data removed]",
      "text/plain": [
       "<Figure size 720x576 with 1 Axes>"
      ]
     },
     "metadata": {},
     "output_type": "display_data"
    }
   ],
   "source": [
    "top10_nutri =  data.sort_values(by=\"Disponibilité alimentaire (Kcal/personne/jour)\", ascending =  False)[:10]\n",
    "plt.figure(figsize = (10, 8))\n",
    "sns.barplot(data = top10_nutri, x = top10_nutri.index, y = 'Disponibilité alimentaire (Kcal/personne/jour)', palette = \"deep\")\n",
    "plt.xticks(rotation=70)\n",
    "plt.tight_layout()\n",
    "plt.title('Ceux ayant le plus de disponibilité/habitant')\n",
    "\n",
    "plt.show()"
   ]
  },
  {
   "cell_type": "markdown",
   "id": "50469eae",
   "metadata": {},
   "source": [
    "### Question 4: Ceux ayant le moins de disponibilité/habitant"
   ]
  },
  {
   "cell_type": "code",
   "execution_count": 623,
   "id": "4242f7c5",
   "metadata": {},
   "outputs": [
    {
     "data": {
      "text/html": [
       "<div>\n",
       "<style scoped>\n",
       "    .dataframe tbody tr th:only-of-type {\n",
       "        vertical-align: middle;\n",
       "    }\n",
       "\n",
       "    .dataframe tbody tr th {\n",
       "        vertical-align: top;\n",
       "    }\n",
       "\n",
       "    .dataframe thead th {\n",
       "        text-align: right;\n",
       "    }\n",
       "</style>\n",
       "<table border=\"1\" class=\"dataframe\">\n",
       "  <thead>\n",
       "    <tr style=\"text-align: right;\">\n",
       "      <th></th>\n",
       "      <th>Disponibilité alimentaire (Kcal/personne/jour)</th>\n",
       "    </tr>\n",
       "    <tr>\n",
       "      <th>Zone</th>\n",
       "      <th></th>\n",
       "    </tr>\n",
       "  </thead>\n",
       "  <tbody>\n",
       "    <tr>\n",
       "      <th>République centrafricaine</th>\n",
       "      <td>1879.0</td>\n",
       "    </tr>\n",
       "    <tr>\n",
       "      <th>Zambie</th>\n",
       "      <td>1924.0</td>\n",
       "    </tr>\n",
       "    <tr>\n",
       "      <th>Madagascar</th>\n",
       "      <td>2056.0</td>\n",
       "    </tr>\n",
       "    <tr>\n",
       "      <th>Afghanistan</th>\n",
       "      <td>2087.0</td>\n",
       "    </tr>\n",
       "    <tr>\n",
       "      <th>Haïti</th>\n",
       "      <td>2089.0</td>\n",
       "    </tr>\n",
       "    <tr>\n",
       "      <th>République populaire démocratique de Corée</th>\n",
       "      <td>2093.0</td>\n",
       "    </tr>\n",
       "    <tr>\n",
       "      <th>Tchad</th>\n",
       "      <td>2109.0</td>\n",
       "    </tr>\n",
       "    <tr>\n",
       "      <th>Zimbabwe</th>\n",
       "      <td>2113.0</td>\n",
       "    </tr>\n",
       "    <tr>\n",
       "      <th>Ouganda</th>\n",
       "      <td>2126.0</td>\n",
       "    </tr>\n",
       "    <tr>\n",
       "      <th>Timor-Leste</th>\n",
       "      <td>2129.0</td>\n",
       "    </tr>\n",
       "  </tbody>\n",
       "</table>\n",
       "</div>"
      ],
      "text/plain": [
       "                                            Disponibilité alimentaire (Kcal/personne/jour)\n",
       "Zone                                                                                      \n",
       "République centrafricaine                                                           1879.0\n",
       "Zambie                                                                              1924.0\n",
       "Madagascar                                                                          2056.0\n",
       "Afghanistan                                                                         2087.0\n",
       "Haïti                                                                               2089.0\n",
       "République populaire démocratique de Corée                                          2093.0\n",
       "Tchad                                                                               2109.0\n",
       "Zimbabwe                                                                            2113.0\n",
       "Ouganda                                                                             2126.0\n",
       "Timor-Leste                                                                         2129.0"
      ]
     },
     "execution_count": 623,
     "metadata": {},
     "output_type": "execute_result"
    }
   ],
   "source": [
    "data = df_dispo_alimentaire[[\"Zone\",\"Produit\", \"Disponibilité alimentaire (Kcal/personne/jour)\"]].groupby(\"Zone\").agg(\"sum\")\n",
    "data[[\"Disponibilité alimentaire (Kcal/personne/jour)\"]].sort_values(by=\"Disponibilité alimentaire (Kcal/personne/jour)\", ascending=True).iloc[:10]"
   ]
  },
  {
   "cell_type": "code",
   "execution_count": 625,
   "id": "dc3674ff",
   "metadata": {},
   "outputs": [
    {
     "data": {
      "image/png": "[encoded data removed]",
      "text/plain": [
       "<Figure size 720x576 with 1 Axes>"
      ]
     },
     "metadata": {},
     "output_type": "display_data"
    }
   ],
   "source": [
    "top10_nutri =  data.sort_values(by=\"Disponibilité alimentaire (Kcal/personne/jour)\", ascending =  True)[:10]\n",
    "plt.figure(figsize = (10, 8))\n",
    "sns.barplot(data = top10_nutri, x = top10_nutri.index, y = 'Disponibilité alimentaire (Kcal/personne/jour)', palette = \"deep\")\n",
    "plt.xticks(rotation=85)\n",
    "plt.tight_layout()\n",
    "plt.title(' Ceux ayant le moins de disponibilité/habitant')\n",
    "\n",
    "plt.show()"
   ]
  },
  {
   "cell_type": "code",
   "execution_count": null,
   "id": "fd64859f",
   "metadata": {},
   "outputs": [],
   "source": []
  }
 ],
 "metadata": {
  "kernelspec": {
   "display_name": "Python 3",
   "language": "python",
   "name": "python3"
  },
  "language_info": {
   "codemirror_mode": {
    "name": "ipython",
    "version": 3
   },
   "file_extension": ".py",
   "mimetype": "text/x-python",
   "name": "python",
   "nbconvert_exporter": "python",
   "pygments_lexer": "ipython3",
   "version": "3.8.8"
  }
 },
 "nbformat": 4,
 "nbformat_minor": 5
}
